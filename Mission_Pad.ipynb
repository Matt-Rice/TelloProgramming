{
 "cells": [
  {
   "cell_type": "code",
   "execution_count": null,
   "metadata": {},
   "outputs": [],
   "source": [
    "dji"
   ]
  },
  {
   "cell_type": "code",
   "execution_count": 2,
   "metadata": {},
   "outputs": [
    {
     "ename": "OSError",
     "evalue": "[WinError 10048] Only one usage of each socket address (protocol/network address/port) is normally permitted",
     "output_type": "error",
     "traceback": [
      "\u001b[1;31m---------------------------------------------------------------------------\u001b[0m",
      "\u001b[1;31mOSError\u001b[0m                                   Traceback (most recent call last)",
      "Cell \u001b[1;32mIn[2], line 4\u001b[0m\n\u001b[0;32m      1\u001b[0m \u001b[38;5;28;01mfrom\u001b[39;00m \u001b[38;5;21;01mdjitellopy\u001b[39;00m \u001b[38;5;28;01mimport\u001b[39;00m Tello\n\u001b[0;32m      2\u001b[0m \u001b[38;5;28;01mfrom\u001b[39;00m \u001b[38;5;21;01mtime\u001b[39;00m \u001b[38;5;28;01mimport\u001b[39;00m sleep\n\u001b[1;32m----> 4\u001b[0m tello \u001b[38;5;241m=\u001b[39m \u001b[43mTello\u001b[49m\u001b[43m(\u001b[49m\u001b[43m)\u001b[49m\n\u001b[0;32m      6\u001b[0m tello\u001b[38;5;241m.\u001b[39mconnect()\n\u001b[0;32m      7\u001b[0m \u001b[38;5;28mprint\u001b[39m(tello\u001b[38;5;241m.\u001b[39mget_battery())\n",
      "File \u001b[1;32mc:\\Users\\mjric\\AppData\\Local\\Programs\\Python\\Python311\\Lib\\site-packages\\djitellopy\\enforce_types.py:54\u001b[0m, in \u001b[0;36menforce_types.<locals>.decorate.<locals>.wrapper\u001b[1;34m(*args, **kwargs)\u001b[0m\n\u001b[0;32m     51\u001b[0m \u001b[38;5;129m@wraps\u001b[39m(func)\n\u001b[0;32m     52\u001b[0m \u001b[38;5;28;01mdef\u001b[39;00m \u001b[38;5;21mwrapper\u001b[39m(\u001b[38;5;241m*\u001b[39margs, \u001b[38;5;241m*\u001b[39m\u001b[38;5;241m*\u001b[39mkwargs):\n\u001b[0;32m     53\u001b[0m     check_types(spec, \u001b[38;5;241m*\u001b[39margs, \u001b[38;5;241m*\u001b[39m\u001b[38;5;241m*\u001b[39mkwargs)\n\u001b[1;32m---> 54\u001b[0m     \u001b[38;5;28;01mreturn\u001b[39;00m \u001b[43mfunc\u001b[49m\u001b[43m(\u001b[49m\u001b[38;5;241;43m*\u001b[39;49m\u001b[43margs\u001b[49m\u001b[43m,\u001b[49m\u001b[43m \u001b[49m\u001b[38;5;241;43m*\u001b[39;49m\u001b[38;5;241;43m*\u001b[39;49m\u001b[43mkwargs\u001b[49m\u001b[43m)\u001b[49m\n",
      "File \u001b[1;32mc:\\Users\\mjric\\AppData\\Local\\Programs\\Python\\Python311\\Lib\\site-packages\\djitellopy\\tello.py:115\u001b[0m, in \u001b[0;36mTello.__init__\u001b[1;34m(self, host, retry_count, vs_udp)\u001b[0m\n\u001b[0;32m    112\u001b[0m \u001b[38;5;28;01mif\u001b[39;00m \u001b[38;5;129;01mnot\u001b[39;00m threads_initialized:\n\u001b[0;32m    113\u001b[0m     \u001b[38;5;66;03m# Run Tello command responses UDP receiver on background\u001b[39;00m\n\u001b[0;32m    114\u001b[0m     client_socket \u001b[38;5;241m=\u001b[39m socket\u001b[38;5;241m.\u001b[39msocket(socket\u001b[38;5;241m.\u001b[39mAF_INET, socket\u001b[38;5;241m.\u001b[39mSOCK_DGRAM)\n\u001b[1;32m--> 115\u001b[0m     \u001b[43mclient_socket\u001b[49m\u001b[38;5;241;43m.\u001b[39;49m\u001b[43mbind\u001b[49m\u001b[43m(\u001b[49m\u001b[43m(\u001b[49m\u001b[38;5;124;43m\"\u001b[39;49m\u001b[38;5;124;43m\"\u001b[39;49m\u001b[43m,\u001b[49m\u001b[43m \u001b[49m\u001b[43mTello\u001b[49m\u001b[38;5;241;43m.\u001b[39;49m\u001b[43mCONTROL_UDP_PORT\u001b[49m\u001b[43m)\u001b[49m\u001b[43m)\u001b[49m\n\u001b[0;32m    116\u001b[0m     response_receiver_thread \u001b[38;5;241m=\u001b[39m Thread(target\u001b[38;5;241m=\u001b[39mTello\u001b[38;5;241m.\u001b[39mudp_response_receiver)\n\u001b[0;32m    117\u001b[0m     response_receiver_thread\u001b[38;5;241m.\u001b[39mdaemon \u001b[38;5;241m=\u001b[39m \u001b[38;5;28;01mTrue\u001b[39;00m\n",
      "\u001b[1;31mOSError\u001b[0m: [WinError 10048] Only one usage of each socket address (protocol/network address/port) is normally permitted"
     ]
    }
   ],
   "source": [
    "from djitellopy import Tello\n",
    "from time import sleep\n",
    "\n",
    "tello = Tello()\n",
    "\n",
    "tello.connect()\n",
    "print(tello.get_battery())\n",
    "\n",
    "tello.takeoff()\n",
    "initial_pad = tello.get_mission_pad_id()\n",
    "\n",
    "\n",
    "while(tello.get_mission_pad_id()==initial_pad):\n",
    "    tello.move_forward(40)\n",
    "\n",
    "if(tello.get_battery()>50):\n",
    "    tello.flip_back()\n",
    "\n",
    "tello.rotate_counter_clockwise(180)\n",
    "\n",
    "while(tello.get_mission_pad_id()!=initial_pad):\n",
    "    tello.move_forward(40)\n",
    "    \n",
    "tello.land()\n",
    "    \n",
    "\n",
    "    \n",
    "\n"
   ]
  },
  {
   "cell_type": "code",
   "execution_count": 1,
   "metadata": {},
   "outputs": [
    {
     "name": "stdout",
     "output_type": "stream",
     "text": [
      "Requirement already satisfied: djitellopy in c:\\users\\mjric\\appdata\\local\\programs\\python\\python311\\lib\\site-packages (2.5.0)Note: you may need to restart the kernel to use updated packages.\n",
      "\n",
      "Requirement already satisfied: numpy in c:\\users\\mjric\\appdata\\local\\programs\\python\\python311\\lib\\site-packages (from djitellopy) (1.26.1)\n",
      "Requirement already satisfied: opencv-python in c:\\users\\mjric\\appdata\\local\\programs\\python\\python311\\lib\\site-packages (from djitellopy) (4.8.1.78)\n",
      "Requirement already satisfied: av in c:\\users\\mjric\\appdata\\local\\programs\\python\\python311\\lib\\site-packages (from djitellopy) (10.0.0)\n",
      "Requirement already satisfied: pillow in c:\\users\\mjric\\appdata\\local\\programs\\python\\python311\\lib\\site-packages (from djitellopy) (10.1.0)\n"
     ]
    },
    {
     "name": "stderr",
     "output_type": "stream",
     "text": [
      "\n",
      "[notice] A new release of pip available: 22.3.1 -> 24.0\n",
      "[notice] To update, run: python.exe -m pip install --upgrade pip\n"
     ]
    }
   ],
   "source": []
  }
 ],
 "metadata": {
  "kernelspec": {
   "display_name": "Python 3",
   "language": "python",
   "name": "python3"
  },
  "language_info": {
   "codemirror_mode": {
    "name": "ipython",
    "version": 3
   },
   "file_extension": ".py",
   "mimetype": "text/x-python",
   "name": "python",
   "nbconvert_exporter": "python",
   "pygments_lexer": "ipython3",
   "version": "3.11.1"
  }
 },
 "nbformat": 4,
 "nbformat_minor": 2
}
