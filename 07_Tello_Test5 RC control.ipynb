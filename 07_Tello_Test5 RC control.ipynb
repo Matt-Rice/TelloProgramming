{
 "cells": [
  {
   "cell_type": "markdown",
   "id": "9177c0c7",
   "metadata": {},
   "source": [
    "## Tello Drone RC control\n",
    "### \"RC control\" stands for \"Remote Control\" and refers to the act of operating a device, typically a vehicle or machine, from a distance using a handheld transmitter or controller. \n",
    "- The `send_rc_control` function is a method provided by the djitellopy library that allows you to send manual remote control commands to the Tello drone. This function lets you control the drone's movement in terms of its pitch, roll, yaw (rotation), and throttle.\n",
    "\n",
    "- **send_rc_control(roll, pitch, throttle, yaw)**\n",
    "- **roll**: Controls the drone's movement left or right. Positive values make the drone move right, while negative values make it move left.\n",
    "\n",
    "- **pitch**: Controls the drone's movement forward or backward. Positive values make the drone move forward, while negative values make it move backward.\n",
    "\n",
    "- **throttle**: Controls the drone's altitude or vertical movement. Positive values make the drone ascend, while negative values make it descend.\n",
    "\n",
    "- **yaw**: Controls the drone's rotation around its vertical axis (yaw). Positive values make the drone rotate clockwise, while negative values make it rotate counterclockwise.\n",
    "- send_rc_control are in the range of `-100 to 100`. A value of 0 means no movement or rotation in that particular direction. \n",
    "- https://github.com/damiafuentes/DJITelloPy/blob/master/djitellopy/tello.py"
   ]
  },
  {
   "cell_type": "code",
   "execution_count": null,
   "id": "0065d756",
   "metadata": {},
   "outputs": [],
   "source": [
    "from djitellopy import Tello\n",
    "from time import sleep\n",
    "tello=Tello()\n",
    "\n"
   ]
  },
  {
   "cell_type": "code",
   "execution_count": null,
   "id": "9a64fee7",
   "metadata": {},
   "outputs": [],
   "source": [
    "tello.connect()\n",
    "print(tello.get_battery())\n"
   ]
  },
  {
   "cell_type": "code",
   "execution_count": null,
   "id": "e4d9c373",
   "metadata": {},
   "outputs": [],
   "source": [
    "\n",
    "tello.takeoff()\n",
    "\n",
    "tello.send_rc_control(0, 30, 0, 0)\n",
    "\n",
    "sleep(2)\n",
    "\n",
    "tello.send_rc_control(0, 0, 0, 30)\n",
    "\n",
    "sleep(2)\n",
    "\n",
    "tello.send_rc_control(0, 0, 0, 0)\n",
    "\n",
    "tello.land()"
   ]
  },
  {
   "cell_type": "code",
   "execution_count": null,
   "id": "cc74a75a",
   "metadata": {},
   "outputs": [],
   "source": [
    "from djitellopy import Tello\n",
    "from time import sleep\n",
    "tello=Tello()\n",
    "\n",
    "tello.connect()\n",
    "\n",
    "# Take off\n",
    "tello.send_rc_control(0, 0, 20, 0)\n",
    "tello.takeoff()\n",
    "\n",
    "# Perform square box mission\n",
    "for i in range(4):\n",
    "    # Move forward\n",
    "    tello.send_rc_control(0, 20, 0, 0)\n",
    "    sleep(3)  # Move time = distance / speed\n",
    "    \n",
    "    # Turn right\n",
    "    tello.send_rc_control(0, 0, 0, 45)  # Right turn\n",
    "    sleep(3)\n",
    "    \n",
    "    # Stop\n",
    "    tello.send_rc_control(0, 0, 0, 0)\n",
    "    sleep(1)  # Pause briefly\n",
    "    \n",
    "# Land the drone\n",
    "tello.land()\n"
   ]
  },
  {
   "cell_type": "code",
   "execution_count": null,
   "id": "97e63fa3",
   "metadata": {},
   "outputs": [],
   "source": [
    "from djitellopy import Tello\n",
    "from time import sleep\n",
    "import time\n",
    "import cv2\n",
    "tello=Tello()\n",
    "\n",
    "tello.connect()\n",
    "tello.streamon()\n",
    "# Take off\n",
    "tello.send_rc_control(0, 0, 20, 0)\n",
    "tello.takeoff()\n",
    "\n",
    "# Perform square box mission\n",
    "for i in range(4):\n",
    "    # Move forward\n",
    "    tello.send_rc_control(0, 20, 0, 0)\n",
    "    sleep(3)  # Move time = distance / speed\n",
    "    \n",
    "    # Turn right\n",
    "    tello.send_rc_control(0, 0, 0, 30)  # Right turn\n",
    "    sleep(3)\n",
    "    # Capture image\n",
    "    image = tello.get_frame_read().frame\n",
    "    filename = f\"image_{time.time()}.jpg\"\n",
    "    cv2.imwrite(filename, image)\n",
    "    # Stop\n",
    "    tello.send_rc_control(0, 0, 0, 0)\n",
    "    sleep(2)  # Pause briefly\n",
    "    \n",
    "# Land the drone\n",
    "tello.land()\n",
    "tello.streamoff()"
   ]
  },
  {
   "cell_type": "code",
   "execution_count": null,
   "id": "35ad317c",
   "metadata": {},
   "outputs": [],
   "source": []
  }
 ],
 "metadata": {
  "kernelspec": {
   "display_name": "Python 3 (ipykernel)",
   "language": "python",
   "name": "python3"
  },
  "language_info": {
   "codemirror_mode": {
    "name": "ipython",
    "version": 3
   },
   "file_extension": ".py",
   "mimetype": "text/x-python",
   "name": "python",
   "nbconvert_exporter": "python",
   "pygments_lexer": "ipython3",
   "version": "3.9.13"
  }
 },
 "nbformat": 4,
 "nbformat_minor": 5
}
