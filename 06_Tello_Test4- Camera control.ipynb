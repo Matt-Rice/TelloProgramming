{
 "cells": [
  {
   "cell_type": "markdown",
   "id": "31527c71",
   "metadata": {},
   "source": [
    "## Tello Drone camera control\n",
    "- Photo: 5MP (2592x1936)\n",
    "\n",
    "- Field of View (FOV): 82.6°\n",
    "\n",
    "- Video: HD720P30\n",
    "\n",
    "- Format: JPG(Photo); MP4(Video)\n",
    "\n",
    "- Electronic Image Stabilization (EIS): Yes\n",
    "- https://github.com/damiafuentes/DJITelloPy/blob/master/djitellopy/tello.py"
   ]
  },
  {
   "cell_type": "code",
   "execution_count": 4,
   "id": "0065d756",
   "metadata": {},
   "outputs": [
    {
     "name": "stderr",
     "output_type": "stream",
     "text": [
      "[INFO] tello.py - 129 - Tello instance was initialized. Host: '192.168.10.1'. Port: '8889'.\n"
     ]
    }
   ],
   "source": [
    "from djitellopy import Tello\n",
    "import time\n",
    "import cv2\n",
    "tello= Tello()\n",
    "\n"
   ]
  },
  {
   "cell_type": "code",
   "execution_count": 5,
   "id": "de20a03b",
   "metadata": {},
   "outputs": [],
   "source": [
    "#% pip install opencv-python"
   ]
  },
  {
   "cell_type": "code",
   "execution_count": 6,
   "id": "9a64fee7",
   "metadata": {},
   "outputs": [
    {
     "name": "stderr",
     "output_type": "stream",
     "text": [
      "[INFO] tello.py - 438 - Send command: 'command'\n"
     ]
    },
    {
     "name": "stderr",
     "output_type": "stream",
     "text": [
      "[INFO] tello.py - 462 - Response command: 'ok'\n",
      "[INFO] tello.py - 438 - Send command: 'streamon'\n",
      "[INFO] tello.py - 462 - Response streamon: 'ok'\n"
     ]
    },
    {
     "name": "stdout",
     "output_type": "stream",
     "text": [
      "75\n"
     ]
    }
   ],
   "source": [
    "tello.connect()\n",
    "print(tello.get_battery())\n",
    "\n",
    "# Turn on the camera and give us frames\n",
    "tello.streamon()\n"
   ]
  },
  {
   "cell_type": "code",
   "execution_count": 7,
   "id": "e4d9c373",
   "metadata": {},
   "outputs": [
    {
     "name": "stderr",
     "output_type": "stream",
     "text": [
      "[INFO] tello.py - 438 - Send command: 'takeoff'\n"
     ]
    },
    {
     "name": "stderr",
     "output_type": "stream",
     "text": [
      "[INFO] tello.py - 462 - Response takeoff: 'ok'\n",
      "bind failed: Error number -10048 occurred\n"
     ]
    },
    {
     "ename": "OSError",
     "evalue": "[Errno 10038] Error number -10038 occurred: 'udp://@0.0.0.0:11111'; last error log: [udp] bind failed: Error number -10048 occurred",
     "output_type": "error",
     "traceback": [
      "\u001b[1;31m---------------------------------------------------------------------------\u001b[0m",
      "\u001b[1;31mOSError\u001b[0m                                   Traceback (most recent call last)",
      "\u001b[1;32mc:\\Users\\mjric\\Downloads\\06_Tello_Test4- Camera control.ipynb Cell 5\u001b[0m line \u001b[0;36m4\n\u001b[0;32m      <a href='vscode-notebook-cell:/c%3A/Users/mjric/Downloads/06_Tello_Test4-%20Camera%20control.ipynb#W3sZmlsZQ%3D%3D?line=1'>2</a>\u001b[0m tello\u001b[39m.\u001b[39mtakeoff()\n\u001b[0;32m      <a href='vscode-notebook-cell:/c%3A/Users/mjric/Downloads/06_Tello_Test4-%20Camera%20control.ipynb#W3sZmlsZQ%3D%3D?line=2'>3</a>\u001b[0m \u001b[39mwhile\u001b[39;00m \u001b[39mTrue\u001b[39;00m:\n\u001b[1;32m----> <a href='vscode-notebook-cell:/c%3A/Users/mjric/Downloads/06_Tello_Test4-%20Camera%20control.ipynb#W3sZmlsZQ%3D%3D?line=3'>4</a>\u001b[0m     img\u001b[39m=\u001b[39mtello\u001b[39m.\u001b[39;49mget_frame_read()\u001b[39m.\u001b[39mframe  \u001b[39m# Individual images\u001b[39;00m\n\u001b[0;32m      <a href='vscode-notebook-cell:/c%3A/Users/mjric/Downloads/06_Tello_Test4-%20Camera%20control.ipynb#W3sZmlsZQ%3D%3D?line=4'>5</a>\u001b[0m     img\u001b[39m=\u001b[39mcv2\u001b[39m.\u001b[39mresize(img, (\u001b[39m360\u001b[39m,\u001b[39m240\u001b[39m)) \u001b[39m# Resize the image using opencv library\u001b[39;00m\n\u001b[0;32m      <a href='vscode-notebook-cell:/c%3A/Users/mjric/Downloads/06_Tello_Test4-%20Camera%20control.ipynb#W3sZmlsZQ%3D%3D?line=5'>6</a>\u001b[0m     cv2\u001b[39m.\u001b[39mimshow(\u001b[39m\"\u001b[39m\u001b[39mImage\u001b[39m\u001b[39m\"\u001b[39m, img)\n",
      "File \u001b[1;32mc:\\Users\\mjric\\AppData\\Local\\Programs\\Python\\Python311\\Lib\\site-packages\\djitellopy\\enforce_types.py:54\u001b[0m, in \u001b[0;36menforce_types.<locals>.decorate.<locals>.wrapper\u001b[1;34m(*args, **kwargs)\u001b[0m\n\u001b[0;32m     51\u001b[0m \u001b[39m@wraps\u001b[39m(func)\n\u001b[0;32m     52\u001b[0m \u001b[39mdef\u001b[39;00m \u001b[39mwrapper\u001b[39m(\u001b[39m*\u001b[39margs, \u001b[39m*\u001b[39m\u001b[39m*\u001b[39mkwargs):\n\u001b[0;32m     53\u001b[0m     check_types(spec, \u001b[39m*\u001b[39margs, \u001b[39m*\u001b[39m\u001b[39m*\u001b[39mkwargs)\n\u001b[1;32m---> 54\u001b[0m     \u001b[39mreturn\u001b[39;00m func(\u001b[39m*\u001b[39;49margs, \u001b[39m*\u001b[39;49m\u001b[39m*\u001b[39;49mkwargs)\n",
      "File \u001b[1;32mc:\\Users\\mjric\\AppData\\Local\\Programs\\Python\\Python311\\Lib\\site-packages\\djitellopy\\tello.py:421\u001b[0m, in \u001b[0;36mTello.get_frame_read\u001b[1;34m(self, with_queue, max_queue_len)\u001b[0m\n\u001b[0;32m    419\u001b[0m \u001b[39mif\u001b[39;00m \u001b[39mself\u001b[39m\u001b[39m.\u001b[39mbackground_frame_read \u001b[39mis\u001b[39;00m \u001b[39mNone\u001b[39;00m:\n\u001b[0;32m    420\u001b[0m     address \u001b[39m=\u001b[39m \u001b[39mself\u001b[39m\u001b[39m.\u001b[39mget_udp_video_address()\n\u001b[1;32m--> 421\u001b[0m     \u001b[39mself\u001b[39m\u001b[39m.\u001b[39mbackground_frame_read \u001b[39m=\u001b[39m BackgroundFrameRead(\u001b[39mself\u001b[39;49m, address, with_queue, max_queue_len)\n\u001b[0;32m    422\u001b[0m     \u001b[39mself\u001b[39m\u001b[39m.\u001b[39mbackground_frame_read\u001b[39m.\u001b[39mstart()\n\u001b[0;32m    423\u001b[0m \u001b[39mreturn\u001b[39;00m \u001b[39mself\u001b[39m\u001b[39m.\u001b[39mbackground_frame_read\n",
      "File \u001b[1;32mc:\\Users\\mjric\\AppData\\Local\\Programs\\Python\\Python311\\Lib\\site-packages\\djitellopy\\tello.py:1049\u001b[0m, in \u001b[0;36mBackgroundFrameRead.__init__\u001b[1;34m(self, tello, address, with_queue, maxsize)\u001b[0m\n\u001b[0;32m   1047\u001b[0m \u001b[39mtry\u001b[39;00m:\n\u001b[0;32m   1048\u001b[0m     Tello\u001b[39m.\u001b[39mLOGGER\u001b[39m.\u001b[39mdebug(\u001b[39m'\u001b[39m\u001b[39mtrying to grab video frames...\u001b[39m\u001b[39m'\u001b[39m)\n\u001b[1;32m-> 1049\u001b[0m     \u001b[39mself\u001b[39m\u001b[39m.\u001b[39mcontainer \u001b[39m=\u001b[39m av\u001b[39m.\u001b[39;49mopen(\u001b[39mself\u001b[39;49m\u001b[39m.\u001b[39;49maddress, timeout\u001b[39m=\u001b[39;49m(Tello\u001b[39m.\u001b[39;49mFRAME_GRAB_TIMEOUT, \u001b[39mNone\u001b[39;49;00m))\n\u001b[0;32m   1050\u001b[0m \u001b[39mexcept\u001b[39;00m av\u001b[39m.\u001b[39merror\u001b[39m.\u001b[39mExitError:\n\u001b[0;32m   1051\u001b[0m     \u001b[39mraise\u001b[39;00m TelloException(\u001b[39m'\u001b[39m\u001b[39mFailed to grab video frames from video stream\u001b[39m\u001b[39m'\u001b[39m)\n",
      "File \u001b[1;32mav\\container\\core.pyx:401\u001b[0m, in \u001b[0;36mav.container.core.open\u001b[1;34m()\u001b[0m\n",
      "File \u001b[1;32mav\\container\\core.pyx:272\u001b[0m, in \u001b[0;36mav.container.core.Container.__cinit__\u001b[1;34m()\u001b[0m\n",
      "File \u001b[1;32mav\\container\\core.pyx:292\u001b[0m, in \u001b[0;36mav.container.core.Container.err_check\u001b[1;34m()\u001b[0m\n",
      "File \u001b[1;32mav\\error.pyx:336\u001b[0m, in \u001b[0;36mav.error.err_check\u001b[1;34m()\u001b[0m\n",
      "\u001b[1;31mOSError\u001b[0m: [Errno 10038] Error number -10038 occurred: 'udp://@0.0.0.0:11111'; last error log: [udp] bind failed: Error number -10048 occurred"
     ]
    },
    {
     "ename": "",
     "evalue": "",
     "output_type": "error",
     "traceback": [
      "\u001b[1;31mThe Kernel crashed while executing code in the the current cell or a previous cell. Please review the code in the cell(s) to identify a possible cause of the failure. Click <a href='https://aka.ms/vscodeJupyterKernelCrash'>here</a> for more info. View Jupyter <a href='command:jupyter.viewOutput'>log</a> for further details."
     ]
    }
   ],
   "source": [
    "tello.takeoff()\n",
    "initial_pad=tello.get_mission_pad_id()\n",
    "print(initial_pad)\n",
    "while True:\n",
    "    # Continuous frames\n",
    "    img=tello.get_frame_read().frame  # Individual images\n",
    "    img=cv2.resize(img, (360,240)) # Resize the image using opencv library\n",
    "    cv2.imshow(\"Image\", img)\n",
    "    cv2.waitKey(1) # wait for 1ms  \n",
    "    tello.move_forward(50)\n",
    "    if 3 == tello.get_mission_pad_id():\n",
    "        print(\"new mission pad detected\")\n",
    "        tello.rotate_clockwise(180)\n",
    "        tello.flip_left()\n",
    "        tello.flip_right()\n",
    "        tello.move_forward(200)\n",
    "        \n",
    "    #Delay for vieweing\n",
    "    if cv2.waitKey(1) == ord('q'):  # Press 'q' to exit the loop\n",
    "        break\n",
    "tello.land()   \n",
    "\n",
    "# Release the video window\n",
    "cv2.destroyAllWindows()"
   ]
  },
  {
   "cell_type": "code",
   "execution_count": null,
   "id": "cc74a75a",
   "metadata": {},
   "outputs": [],
   "source": []
  }
 ],
 "metadata": {
  "kernelspec": {
   "display_name": "Python 3 (ipykernel)",
   "language": "python",
   "name": "python3"
  },
  "language_info": {
   "codemirror_mode": {
    "name": "ipython",
    "version": 3
   },
   "file_extension": ".py",
   "mimetype": "text/x-python",
   "name": "python",
   "nbconvert_exporter": "python",
   "pygments_lexer": "ipython3",
   "version": "3.11.1"
  }
 },
 "nbformat": 4,
 "nbformat_minor": 5
}
