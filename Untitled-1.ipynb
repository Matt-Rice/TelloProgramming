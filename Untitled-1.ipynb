{
 "cells": [
  {
   "cell_type": "code",
   "execution_count": null,
   "metadata": {},
   "outputs": [],
   "source": [
    "import keyboard\n",
    "import time\n",
    "import djitellopy\n",
    "from djitellopy import Tello\n",
    "\n",
    "# Connect to the Tello drone\n",
    "tello = Tello()\n",
    "tello.connect()\n",
    "print(tello.get_battery())\n",
    "\n",
    "tello.misi"
   ]
  }
 ],
 "metadata": {
  "language_info": {
   "name": "python"
  }
 },
 "nbformat": 4,
 "nbformat_minor": 2
}
