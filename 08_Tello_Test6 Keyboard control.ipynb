{
 "cells": [
  {
   "cell_type": "markdown",
   "id": "072868bc",
   "metadata": {},
   "source": [
    "### Tello control using keyboard\n",
    "- Alphanumeric characters are represented by their respective characters, e.g., 'a', 'b', 'c', ..., 'z', '0', '1', ..., '9'.\n",
    "\n",
    "- Special keys are represented using their names, e.g., 'space', 'enter', 'tab', 'backspace', 'shift', 'ctrl', 'alt', 'esc', 'delete', 'insert', 'home', 'end', 'page up', 'page down', 'left', 'right', 'up', 'down', 'caps lock', 'num lock', 'scroll lock', 'print screen', 'pause', etc.\n",
    "\n",
    "- Function keys are named 'f1', 'f2', ..., 'f12'.\n",
    "\n",
    "- The arrow keys are 'up', 'down', 'left', and 'right'.\n",
    "\n",
    "- Modifier keys like 'ctrl', 'shift', and 'alt' are also represented.\n",
    "\n",
    "\n",
    "https://thepythoncode.com/article/control-keyboard-python"
   ]
  },
  {
   "cell_type": "code",
   "execution_count": 1,
   "id": "02c9f1f7",
   "metadata": {},
   "outputs": [
    {
     "name": "stdout",
     "output_type": "stream",
     "text": [
      "Requirement already satisfied: keyboard in c:\\users\\mjric\\appdata\\local\\programs\\python\\python311\\lib\\site-packages (0.13.5)Note: you may need to restart the kernel to use updated packages.\n",
      "\n"
     ]
    },
    {
     "name": "stderr",
     "output_type": "stream",
     "text": [
      "\n",
      "[notice] A new release of pip available: 22.3.1 -> 24.0\n",
      "[notice] To update, run: python.exe -m pip install --upgrade pip\n"
     ]
    }
   ],
   "source": [
    "%pip install keyboard"
   ]
  },
  {
   "cell_type": "markdown",
   "id": "5e53210f",
   "metadata": {},
   "source": [
    "import keyboard\n",
    "import time\n",
    "from djitellopy import Tello\n",
    "\n",
    "# Connect to the Tello drone\n",
    "tello = Tello()\n",
    "tello.connect()\n",
    "print(tello.get_battery())"
   ]
  },
  {
   "cell_type": "code",
   "execution_count": 11,
   "id": "ab296fc3",
   "metadata": {},
   "outputs": [
    {
     "name": "stderr",
     "output_type": "stream",
     "text": [
      "[INFO] tello.py - 129 - Tello instance was initialized. Host: '192.168.10.1'. Port: '8889'.\n",
      "[INFO] tello.py - 438 - Send command: 'command'\n",
      "[INFO] tello.py - 462 - Response command: 'ok'\n",
      "[INFO] tello.py - 438 - Send command: 'takeoff'\n",
      "[INFO] tello.py - 462 - Response takeoff: 'error'\n",
      "[INFO] tello.py - 438 - Send command: 'takeoff'\n"
     ]
    },
    {
     "name": "stdout",
     "output_type": "stream",
     "text": [
      "8\n"
     ]
    },
    {
     "name": "stderr",
     "output_type": "stream",
     "text": [
      "[INFO] tello.py - 462 - Response takeoff: 'error'\n",
      "[INFO] tello.py - 438 - Send command: 'takeoff'\n",
      "[INFO] tello.py - 462 - Response takeoff: 'error'\n"
     ]
    },
    {
     "ename": "TelloException",
     "evalue": "Command 'takeoff' was unsuccessful for 4 tries. Latest response:\t'error'",
     "output_type": "error",
     "traceback": [
      "\u001b[1;31m---------------------------------------------------------------------------\u001b[0m",
      "\u001b[1;31mTelloException\u001b[0m                            Traceback (most recent call last)",
      "Cell \u001b[1;32mIn[11], line 13\u001b[0m\n\u001b[0;32m     11\u001b[0m     tello\u001b[38;5;241m.\u001b[39msend_control_command(command)\n\u001b[0;32m     12\u001b[0m     time\u001b[38;5;241m.\u001b[39msleep(\u001b[38;5;241m0.5\u001b[39m)\n\u001b[1;32m---> 13\u001b[0m \u001b[43msend_command\u001b[49m\u001b[43m(\u001b[49m\u001b[38;5;124;43m\"\u001b[39;49m\u001b[38;5;124;43mtakeoff\u001b[39;49m\u001b[38;5;124;43m\"\u001b[39;49m\u001b[43m)\u001b[49m\n\u001b[0;32m     14\u001b[0m \u001b[38;5;28;01mtry\u001b[39;00m:\n\u001b[0;32m     15\u001b[0m     \u001b[38;5;28mprint\u001b[39m(\u001b[38;5;124m\"\u001b[39m\u001b[38;5;124mKeyboard control for Tello:\u001b[39m\u001b[38;5;124m\"\u001b[39m)\n",
      "Cell \u001b[1;32mIn[11], line 11\u001b[0m, in \u001b[0;36msend_command\u001b[1;34m(command)\u001b[0m\n\u001b[0;32m     10\u001b[0m \u001b[38;5;28;01mdef\u001b[39;00m \u001b[38;5;21msend_command\u001b[39m(command):\n\u001b[1;32m---> 11\u001b[0m     \u001b[43mtello\u001b[49m\u001b[38;5;241;43m.\u001b[39;49m\u001b[43msend_control_command\u001b[49m\u001b[43m(\u001b[49m\u001b[43mcommand\u001b[49m\u001b[43m)\u001b[49m\n\u001b[0;32m     12\u001b[0m     time\u001b[38;5;241m.\u001b[39msleep(\u001b[38;5;241m0.5\u001b[39m)\n",
      "File \u001b[1;32mc:\\Users\\mjric\\AppData\\Local\\Programs\\Python\\Python311\\Lib\\site-packages\\djitellopy\\enforce_types.py:54\u001b[0m, in \u001b[0;36menforce_types.<locals>.decorate.<locals>.wrapper\u001b[1;34m(*args, **kwargs)\u001b[0m\n\u001b[0;32m     51\u001b[0m \u001b[38;5;129m@wraps\u001b[39m(func)\n\u001b[0;32m     52\u001b[0m \u001b[38;5;28;01mdef\u001b[39;00m \u001b[38;5;21mwrapper\u001b[39m(\u001b[38;5;241m*\u001b[39margs, \u001b[38;5;241m*\u001b[39m\u001b[38;5;241m*\u001b[39mkwargs):\n\u001b[0;32m     53\u001b[0m     check_types(spec, \u001b[38;5;241m*\u001b[39margs, \u001b[38;5;241m*\u001b[39m\u001b[38;5;241m*\u001b[39mkwargs)\n\u001b[1;32m---> 54\u001b[0m     \u001b[38;5;28;01mreturn\u001b[39;00m \u001b[43mfunc\u001b[49m\u001b[43m(\u001b[49m\u001b[38;5;241;43m*\u001b[39;49m\u001b[43margs\u001b[49m\u001b[43m,\u001b[49m\u001b[43m \u001b[49m\u001b[38;5;241;43m*\u001b[39;49m\u001b[38;5;241;43m*\u001b[39;49m\u001b[43mkwargs\u001b[49m\u001b[43m)\u001b[49m\n",
      "File \u001b[1;32mc:\\Users\\mjric\\AppData\\Local\\Programs\\Python\\Python311\\Lib\\site-packages\\djitellopy\\tello.py:487\u001b[0m, in \u001b[0;36mTello.send_control_command\u001b[1;34m(self, command, timeout)\u001b[0m\n\u001b[0;32m    483\u001b[0m         \u001b[38;5;28;01mreturn\u001b[39;00m \u001b[38;5;28;01mTrue\u001b[39;00m\n\u001b[0;32m    485\u001b[0m     \u001b[38;5;28mself\u001b[39m\u001b[38;5;241m.\u001b[39mLOGGER\u001b[38;5;241m.\u001b[39mdebug(\u001b[38;5;124m\"\u001b[39m\u001b[38;5;124mCommand attempt #\u001b[39m\u001b[38;5;132;01m{}\u001b[39;00m\u001b[38;5;124m failed for command: \u001b[39m\u001b[38;5;124m'\u001b[39m\u001b[38;5;132;01m{}\u001b[39;00m\u001b[38;5;124m'\u001b[39m\u001b[38;5;124m\"\u001b[39m\u001b[38;5;241m.\u001b[39mformat(i, command))\n\u001b[1;32m--> 487\u001b[0m \u001b[38;5;28;43mself\u001b[39;49m\u001b[38;5;241;43m.\u001b[39;49m\u001b[43mraise_result_error\u001b[49m\u001b[43m(\u001b[49m\u001b[43mcommand\u001b[49m\u001b[43m,\u001b[49m\u001b[43m \u001b[49m\u001b[43mresponse\u001b[49m\u001b[43m)\u001b[49m\n\u001b[0;32m    488\u001b[0m \u001b[38;5;28;01mreturn\u001b[39;00m \u001b[38;5;28;01mFalse\u001b[39;00m\n",
      "File \u001b[1;32mc:\\Users\\mjric\\AppData\\Local\\Programs\\Python\\Python311\\Lib\\site-packages\\djitellopy\\enforce_types.py:54\u001b[0m, in \u001b[0;36menforce_types.<locals>.decorate.<locals>.wrapper\u001b[1;34m(*args, **kwargs)\u001b[0m\n\u001b[0;32m     51\u001b[0m \u001b[38;5;129m@wraps\u001b[39m(func)\n\u001b[0;32m     52\u001b[0m \u001b[38;5;28;01mdef\u001b[39;00m \u001b[38;5;21mwrapper\u001b[39m(\u001b[38;5;241m*\u001b[39margs, \u001b[38;5;241m*\u001b[39m\u001b[38;5;241m*\u001b[39mkwargs):\n\u001b[0;32m     53\u001b[0m     check_types(spec, \u001b[38;5;241m*\u001b[39margs, \u001b[38;5;241m*\u001b[39m\u001b[38;5;241m*\u001b[39mkwargs)\n\u001b[1;32m---> 54\u001b[0m     \u001b[38;5;28;01mreturn\u001b[39;00m \u001b[43mfunc\u001b[49m\u001b[43m(\u001b[49m\u001b[38;5;241;43m*\u001b[39;49m\u001b[43margs\u001b[49m\u001b[43m,\u001b[49m\u001b[43m \u001b[49m\u001b[38;5;241;43m*\u001b[39;49m\u001b[38;5;241;43m*\u001b[39;49m\u001b[43mkwargs\u001b[49m\u001b[43m)\u001b[49m\n",
      "File \u001b[1;32mc:\\Users\\mjric\\AppData\\Local\\Programs\\Python\\Python311\\Lib\\site-packages\\djitellopy\\tello.py:529\u001b[0m, in \u001b[0;36mTello.raise_result_error\u001b[1;34m(self, command, response)\u001b[0m\n\u001b[0;32m    525\u001b[0m \u001b[38;5;250m\u001b[39m\u001b[38;5;124;03m\"\"\"Used to reaise an error after an unsuccessful command\u001b[39;00m\n\u001b[0;32m    526\u001b[0m \u001b[38;5;124;03mInternal method, you normally wouldn't call this yourself.\u001b[39;00m\n\u001b[0;32m    527\u001b[0m \u001b[38;5;124;03m\"\"\"\u001b[39;00m\n\u001b[0;32m    528\u001b[0m tries \u001b[38;5;241m=\u001b[39m \u001b[38;5;241m1\u001b[39m \u001b[38;5;241m+\u001b[39m \u001b[38;5;28mself\u001b[39m\u001b[38;5;241m.\u001b[39mretry_count\n\u001b[1;32m--> 529\u001b[0m \u001b[38;5;28;01mraise\u001b[39;00m TelloException(\u001b[38;5;124m\"\u001b[39m\u001b[38;5;124mCommand \u001b[39m\u001b[38;5;124m'\u001b[39m\u001b[38;5;132;01m{}\u001b[39;00m\u001b[38;5;124m'\u001b[39m\u001b[38;5;124m was unsuccessful for \u001b[39m\u001b[38;5;132;01m{}\u001b[39;00m\u001b[38;5;124m tries. Latest response:\u001b[39m\u001b[38;5;130;01m\\t\u001b[39;00m\u001b[38;5;124m'\u001b[39m\u001b[38;5;132;01m{}\u001b[39;00m\u001b[38;5;124m'\u001b[39m\u001b[38;5;124m\"\u001b[39m\n\u001b[0;32m    530\u001b[0m                      \u001b[38;5;241m.\u001b[39mformat(command, tries, response))\n",
      "\u001b[1;31mTelloException\u001b[0m: Command 'takeoff' was unsuccessful for 4 tries. Latest response:\t'error'"
     ]
    }
   ],
   "source": [
    "import keyboard\n",
    "import time\n",
    "from djitellopy import Tello\n",
    "\n",
    "# Connect to the Tello drone\n",
    "tello = Tello()\n",
    "tello.connect()\n",
    "print(tello.get_battery())\n",
    "# Function to send commands to the Tello drone\n",
    "def send_command(command):\n",
    "    tello.send_control_command(command)\n",
    "    time.sleep(0.5)\n",
    "send_command(\"takeoff\")\n",
    "try:\n",
    "    print(\"Keyboard control for Tello:\")\n",
    "    print(\"Use arrow keys to control the drone. Press 'Q' to quit.\")\n",
    "    print(\"Press 'C' for clockwise rotation, 'D' for counter-clockwise rotation.\")\n",
    "    print(\"Press 'U' for up, 'L' for down.\")\n",
    "\n",
    "    while True:\n",
    "        key = keyboard.read_event()\n",
    "        if key.event_type == keyboard.KEY_DOWN:\n",
    "            if key.name == 'w':\n",
    "                send_command(\"forward 30\")\n",
    "            elif key.name == 'd':\n",
    "                send_command(\"back 30\")\n",
    "            elif key.name == 'a':\n",
    "                send_command(\"left 30\")\n",
    "            elif key.name == 's':\n",
    "                send_command(\"right 30\")\n",
    "            elif key.name == 'right':\n",
    "                send_command(\"cw 90\")  # Rotate clockwise 90 degrees\n",
    "            elif key.name == 'left':\n",
    "                send_command(\"ccw 90\")  # Rotate counter-clockwise 90 degrees\n",
    "            elif key.name == 'up':\n",
    "                send_command(\"up 30\")  # Move up 30 cm\n",
    "            elif key.name == 'down':\n",
    "                send_command(\"down 30\")  # Move down 30 cm\n",
    "\n",
    "        elif key.event_type == keyboard.KEY_UP:\n",
    "            if key.name == 'q':\n",
    "                break \n",
    "\n",
    "except KeyboardInterrupt:\n",
    "    pass\n",
    "\n",
    "# Land the drone and close the connection\n",
    "send_command(\"land\")\n",
    "tello.end()"
   ]
  },
  {
   "cell_type": "code",
   "execution_count": null,
   "id": "ba37e8b7",
   "metadata": {},
   "outputs": [],
   "source": []
  }
 ],
 "metadata": {
  "kernelspec": {
   "display_name": "Python 3 (ipykernel)",
   "language": "python",
   "name": "python3"
  },
  "language_info": {
   "codemirror_mode": {
    "name": "ipython",
    "version": 3
   },
   "file_extension": ".py",
   "mimetype": "text/x-python",
   "name": "python",
   "nbconvert_exporter": "python",
   "pygments_lexer": "ipython3",
   "version": "3.11.1"
  }
 },
 "nbformat": 4,
 "nbformat_minor": 5
}
