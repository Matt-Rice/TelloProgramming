{
 "cells": [
  {
   "cell_type": "markdown",
   "id": "4bc542f4",
   "metadata": {},
   "source": [
    "## Tello basic missions using djitellopy\n",
    "https://github.com/damiafuentes/DJITelloPy/blob/master/djitellopy/tello.py"
   ]
  },
  {
   "cell_type": "code",
   "execution_count": 27,
   "id": "40740e27",
   "metadata": {},
   "outputs": [],
   "source": [
    "#%pip install djitellopy"
   ]
  },
  {
   "cell_type": "code",
   "execution_count": 28,
   "id": "5a900905",
   "metadata": {},
   "outputs": [
    {
     "name": "stderr",
     "output_type": "stream",
     "text": [
      "[INFO] tello.py - 129 - Tello instance was initialized. Host: '192.168.10.1'. Port: '8889'.\n"
     ]
    }
   ],
   "source": [
    "from djitellopy import Tello\n",
    "import time\n",
    "tello = Tello()\n"
   ]
  },
  {
   "cell_type": "code",
   "execution_count": 29,
   "id": "ecbbe543",
   "metadata": {},
   "outputs": [
    {
     "name": "stderr",
     "output_type": "stream",
     "text": [
      "[INFO] tello.py - 438 - Send command: 'command'\n",
      "[INFO] tello.py - 462 - Response command: 'ok'\n"
     ]
    },
    {
     "data": {
      "text/plain": [
       "80"
      ]
     },
     "execution_count": 29,
     "metadata": {},
     "output_type": "execute_result"
    }
   ],
   "source": [
    "tello.connect()\n",
    "tello.get_battery()\n"
   ]
  },
  {
   "cell_type": "code",
   "execution_count": 30,
   "id": "eb5485a5",
   "metadata": {},
   "outputs": [
    {
     "name": "stderr",
     "output_type": "stream",
     "text": [
      "[INFO] tello.py - 438 - Send command: 'takeoff'\n"
     ]
    },
    {
     "name": "stderr",
     "output_type": "stream",
     "text": [
      "[INFO] tello.py - 462 - Response takeoff: 'ok'\n",
      "[INFO] tello.py - 438 - Send command: 'cw 36'\n",
      "[INFO] tello.py - 462 - Response cw 36: 'ok'\n",
      "[INFO] tello.py - 438 - Send command: 'forward 100'\n",
      "[INFO] tello.py - 462 - Response forward 100: 'ok'\n",
      "[INFO] tello.py - 438 - Send command: 'cw 108'\n",
      "[INFO] tello.py - 462 - Response cw 108: 'ok'\n",
      "[INFO] tello.py - 438 - Send command: 'forward 100'\n",
      "[INFO] tello.py - 462 - Response forward 100: 'ok'\n",
      "[INFO] tello.py - 438 - Send command: 'cw 36'\n",
      "[INFO] tello.py - 462 - Response cw 36: 'ok'\n",
      "[INFO] tello.py - 438 - Send command: 'forward 100'\n",
      "[INFO] tello.py - 462 - Response forward 100: 'ok'\n",
      "[INFO] tello.py - 438 - Send command: 'cw 108'\n",
      "[INFO] tello.py - 462 - Response cw 108: 'ok'\n",
      "[INFO] tello.py - 438 - Send command: 'forward 100'\n",
      "[INFO] tello.py - 462 - Response forward 100: 'ok'\n",
      "[INFO] tello.py - 438 - Send command: 'cw 36'\n",
      "[INFO] tello.py - 462 - Response cw 36: 'ok'\n",
      "[INFO] tello.py - 438 - Send command: 'forward 100'\n",
      "[INFO] tello.py - 462 - Response forward 100: 'ok'\n",
      "[INFO] tello.py - 438 - Send command: 'cw 108'\n",
      "[INFO] tello.py - 462 - Response cw 108: 'ok'\n",
      "[INFO] tello.py - 438 - Send command: 'forward 100'\n",
      "[INFO] tello.py - 462 - Response forward 100: 'ok'\n",
      "[INFO] tello.py - 438 - Send command: 'cw 36'\n",
      "[INFO] tello.py - 462 - Response cw 36: 'ok'\n",
      "[INFO] tello.py - 438 - Send command: 'forward 100'\n",
      "[INFO] tello.py - 462 - Response forward 100: 'ok'\n",
      "[INFO] tello.py - 438 - Send command: 'cw 108'\n",
      "[INFO] tello.py - 462 - Response cw 108: 'ok'\n",
      "[INFO] tello.py - 438 - Send command: 'forward 100'\n",
      "[INFO] tello.py - 462 - Response forward 100: 'ok'\n",
      "[INFO] tello.py - 438 - Send command: 'cw 36'\n",
      "[INFO] tello.py - 462 - Response cw 36: 'ok'\n",
      "[INFO] tello.py - 438 - Send command: 'forward 100'\n",
      "[INFO] tello.py - 462 - Response forward 100: 'ok'\n",
      "[INFO] tello.py - 438 - Send command: 'cw 108'\n",
      "[INFO] tello.py - 462 - Response cw 108: 'ok'\n",
      "[INFO] tello.py - 438 - Send command: 'forward 100'\n",
      "[INFO] tello.py - 462 - Response forward 100: 'ok'\n",
      "[INFO] tello.py - 438 - Send command: 'land'\n",
      "[INFO] tello.py - 462 - Response land: 'ok'\n"
     ]
    }
   ],
   "source": [
    "\n",
    "tello.takeoff()\n",
    " # wait for two second\n",
    "#tello.move_left(30)\n",
    "\n",
    "for i in range(5):\n",
    "    tello.rotate_clockwise(324)\n",
    "    tello.move_forward(100)\n",
    "    tello.rotate_clockwise(108)\n",
    "    tello.move_forward(100)\n",
    "    time.sleep(2)\n",
    "\n",
    "tello.land()"
   ]
  },
  {
   "cell_type": "code",
   "execution_count": null,
   "id": "9e9a72f9",
   "metadata": {},
   "outputs": [],
   "source": []
  },
  {
   "cell_type": "code",
   "execution_count": null,
   "id": "c205a0e1",
   "metadata": {},
   "outputs": [],
   "source": []
  }
 ],
 "metadata": {
  "kernelspec": {
   "display_name": "Python 3 (ipykernel)",
   "language": "python",
   "name": "python3"
  },
  "language_info": {
   "codemirror_mode": {
    "name": "ipython",
    "version": 3
   },
   "file_extension": ".py",
   "mimetype": "text/x-python",
   "name": "python",
   "nbconvert_exporter": "python",
   "pygments_lexer": "ipython3",
   "version": "3.11.1"
  }
 },
 "nbformat": 4,
 "nbformat_minor": 5
}
